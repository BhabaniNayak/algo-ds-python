{
 "cells": [
  {
   "cell_type": "code",
   "execution_count": 1,
   "metadata": {},
   "outputs": [],
   "source": [
    "import warnings\n",
    "warnings.filterwarnings(\"ignore\")"
   ]
  },
  {
   "cell_type": "code",
   "execution_count": 2,
   "metadata": {},
   "outputs": [],
   "source": [
    "from datasketch import MinHash, MinHashLSH\n",
    "from hashlib import md5"
   ]
  },
  {
   "cell_type": "markdown",
   "metadata": {},
   "source": [
    "# Steps\n",
    "- Shingling: Convert each document into a set of k-shingles (substrings of length k).\n",
    "- MinHashing: Generate MinHash signatures for each document.\n",
    "- Near-Duplicate Detection: Compare MinHash signatures to identify near-duplicates.\n",
    "\n",
    "We'll use the datasketch library for MinHashing.\n",
    "\n",
    "Explanation\n",
    "- Shingling: The get_shingles function converts each document into a set of k-shingles, which are hashed to create unique identifiers for each shingle.\n",
    "- MinHashing: The minhash_signature function creates a MinHash signature for a given set of shingles.\n",
    "- LSH (Locality Sensitive Hashing): The deduplicate_documents function uses LSH to efficiently identify near-duplicate documents based on their MinHash signatures.\n",
    "\n",
    "Parameters\n",
    "- k=5: Length of each shingle (adjust based on the size and nature of the documents).\n",
    "- num_perm=128: Number of permutations for MinHash (higher values increase accuracy but also computational cost).\n",
    "- threshold=0.8: Similarity threshold for considering documents as near-duplicates (adjust based on desired sensitivity).\n"
   ]
  },
  {
   "cell_type": "code",
   "execution_count": 7,
   "metadata": {},
   "outputs": [],
   "source": [
    "def get_shingles(doc, k=10):\n",
    "    shingles = set()\n",
    "    for i in range(len(doc) - k + 1):\n",
    "        shingle = doc[i:i+k]\n",
    "        single_hash = md5(shingle.encode('utf-8')).hexdigest()\n",
    "        shingles.add(single_hash)\n",
    "    return shingles"
   ]
  },
  {
   "cell_type": "code",
   "execution_count": 8,
   "metadata": {},
   "outputs": [],
   "source": [
    "def minhash_signature(shingles, num_perm=128):\n",
    "    m = MinHash(num_perm=num_perm)\n",
    "    for shingle in shingles:\n",
    "        m.update(shingle.encode('utf-8'))\n",
    "    return m"
   ]
  },
  {
   "cell_type": "code",
   "execution_count": 14,
   "metadata": {},
   "outputs": [],
   "source": [
    "def deduplicate_documents(documents, threshold=0.8):\n",
    "    lsh = MinHashLSH(threshold=threshold, num_perm=128)\n",
    "    minhashes = []\n",
    "\n",
    "    for i, doc in enumerate(documents):\n",
    "        shingles = get_shingles(doc)\n",
    "        signature = minhash_signature(shingles)\n",
    "        lsh.insert(f'doc{i}', signature)\n",
    "        minhashes.append(signature)\n",
    "        \n",
    "    unique_docs = []\n",
    "    seen = set()\n",
    "    \n",
    "    for i, minhash in enumerate(minhashes):\n",
    "        result = lsh.query(minhash)\n",
    "        if not any(doc in seen for doc in result):\n",
    "            unique_docs.append(documents[i])\n",
    "            seen.update(result)\n",
    "    \n",
    "    return unique_docs"
   ]
  },
  {
   "cell_type": "markdown",
   "metadata": {},
   "source": [
    "# Testing"
   ]
  },
  {
   "cell_type": "code",
   "execution_count": 15,
   "metadata": {},
   "outputs": [
    {
     "name": "stdout",
     "output_type": "stream",
     "text": [
      "Unique Documents:\n",
      "This is a sample document.\n",
      "This document is a sample.\n",
      "Sample document is this.\n",
      "Completely different document.\n",
      "Another totally different document.\n"
     ]
    }
   ],
   "source": [
    "documents = [\n",
    "    \"This is a sample document.\",\n",
    "    \"This document is a sample.\",    \n",
    "    \"This document is a sample.\",\n",
    "    \"Sample document is this.\",\n",
    "    \"Completely different document.\",\n",
    "    \"Another totally different document.\"\n",
    "]\n",
    "\n",
    "unique_docs = deduplicate_documents(documents)\n",
    "print(\"Unique Documents:\")\n",
    "for doc in unique_docs:\n",
    "    print(doc)"
   ]
  }
 ],
 "metadata": {
  "kernelspec": {
   "display_name": "Python 3",
   "language": "python",
   "name": "python3"
  },
  "language_info": {
   "codemirror_mode": {
    "name": "ipython",
    "version": 3
   },
   "file_extension": ".py",
   "mimetype": "text/x-python",
   "name": "python",
   "nbconvert_exporter": "python",
   "pygments_lexer": "ipython3",
   "version": "3.11.4"
  }
 },
 "nbformat": 4,
 "nbformat_minor": 2
}
