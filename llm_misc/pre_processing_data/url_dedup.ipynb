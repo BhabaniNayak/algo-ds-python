{
 "cells": [
  {
   "cell_type": "code",
   "execution_count": 1,
   "metadata": {},
   "outputs": [],
   "source": [
    "import warnings\n",
    "warnings.filterwarnings(\"ignore\")"
   ]
  },
  {
   "cell_type": "code",
   "execution_count": 2,
   "metadata": {},
   "outputs": [],
   "source": [
    "from urllib.parse import urlparse, urlunparse, parse_qsl, urlencode"
   ]
  },
  {
   "cell_type": "markdown",
   "metadata": {},
   "source": [
    "# Normalize and Dedup urls\n",
    "\n",
    "Explanation\n",
    "\n",
    "Normalization Function (normalize_url):\n",
    "\n",
    "Scheme and Netloc: Convert the scheme (http, https) and netloc (domain) to lowercase to handle case insensitivity.\n",
    "Path: Remove trailing slashes for consistency.\n",
    "Query Parameters: Parse and sort the query parameters to ensure consistent ordering.\n",
    "Rebuild URL: Combine the components back into a normalized URL.\n",
    "De-duplication Function (deduplicate_urls):\n",
    "\n",
    "Use a set to track seen URLs.\n",
    "Iterate through the list of URLs, normalize each one, and add it to the set if it hasn't been seen before."
   ]
  },
  {
   "cell_type": "code",
   "execution_count": 10,
   "metadata": {},
   "outputs": [],
   "source": [
    "def normalize_url(url):\n",
    "    parsed_url = urlparse(url)\n",
    "\n",
    "    scheme = parsed_url.scheme.lower()\n",
    "    netloc = parsed_url.netloc.lower()\n",
    "    path = parsed_url.path.rstrip('/')\n",
    "    query = urlencode(sorted(parse_qsl(parsed_url.query)))\n",
    "    \n",
    "    normalize_url = urlunparse((scheme, netloc, path, parsed_url.params, query, parsed_url.fragment))\n",
    "    \n",
    "    return normalize_url"
   ]
  },
  {
   "cell_type": "code",
   "execution_count": 13,
   "metadata": {},
   "outputs": [],
   "source": [
    "def dedup_urls(urls):\n",
    "    seen_urls = set()\n",
    "    deduped_urls = []\n",
    "    for url in urls:\n",
    "        normalized_url = normalize_url(url)\n",
    "        if normalized_url not in seen_urls:\n",
    "            deduped_urls.append(url)\n",
    "            seen_urls.add(normalized_url)\n",
    "    return deduped_urls"
   ]
  },
  {
   "cell_type": "markdown",
   "metadata": {},
   "source": [
    "# Testing"
   ]
  },
  {
   "cell_type": "code",
   "execution_count": 16,
   "metadata": {},
   "outputs": [
    {
     "name": "stdout",
     "output_type": "stream",
     "text": [
      "Unique URLs:\n",
      "https://example.com/path/?b=2&a=1\n",
      "http://example.com/path/?a=1&b=2\n",
      "https://example.com/path/?a=1&b=2#fragment\n",
      "http://example.com/path\n",
      "https://example.com/path/\n",
      "https://example1.com/order/?checkout=true\n"
     ]
    }
   ],
   "source": [
    "# Example usage\n",
    "urls = [\n",
    "    \"https://example.com/path/?b=2&a=1\",\n",
    "    \"http://example.com/path/?a=1&b=2\",\n",
    "    \"https://example.com/path?b=2&a=1\",\n",
    "    \"https://example.com/path/?a=1&b=2#fragment\",\n",
    "    \"http://example.com/path\",\n",
    "    \"http://example.com/path/\",\n",
    "    \"https://example.com/path/\",\n",
    "    \"https://example1.com/order/?checkout=true\",\n",
    "]\n",
    "\n",
    "unique_urls = dedup_urls(urls)\n",
    "print(\"Unique URLs:\")\n",
    "for url in unique_urls:\n",
    "    print(url)"
   ]
  },
  {
   "cell_type": "markdown",
   "metadata": {},
   "source": [
    "# Scalable Version"
   ]
  },
  {
   "cell_type": "code",
   "execution_count": null,
   "metadata": {},
   "outputs": [],
   "source": [
    "from urllib.parse import urlparse, urlunparse, parse_qsl, urlencode\n",
    "from pyspark import SparkContext, SparkConf\n",
    "\n",
    "def normalize_url(url):\n",
    "    parsed_url = urlparse(url)\n",
    "    scheme = parsed_url.scheme.lower()\n",
    "    netloc = parsed_url.netloc.lower()\n",
    "    path = parsed_url.path.rstrip('/')\n",
    "    query = urlencode(sorted(parse_qsl(parsed_url.query)))\n",
    "    normalized_url = urlunparse((scheme, netloc, path, parsed_url.params, query, parsed_url.fragment))\n",
    "    return normalized_url\n",
    "\n",
    "def dedup_urls(urls):\n",
    "    seen_urls = set()\n",
    "    deduped_urls = []\n",
    "    for url in urls:\n",
    "        normalized_url = normalize_url(url)\n",
    "        if normalized_url not in seen_urls:\n",
    "            deduped_urls.append(url)\n",
    "            seen_urls.add(normalized_url)\n",
    "    return deduped_urls\n",
    "\n",
    "def dedup_urls_spark(urls_rdd):\n",
    "    normalized_urls_rdd = urls_rdd.map(normalize_url)\n",
    "    unique_urls_rdd = normalized_urls_rdd.distinct()\n",
    "    return unique_urls_rdd.collect()\n",
    "\n",
    "# Spark setup\n",
    "conf = SparkConf().setAppName(\"URL Deduplication\").setMaster(\"local[*]\")\n",
    "sc = SparkContext(conf=conf)\n",
    "\n",
    "# Example usage with Spark\n",
    "urls = [\n",
    "    \"https://example.com/path/?b=2&a=1\",\n",
    "    \"http://example.com/path/?a=1&b=2\",\n",
    "    \"https://example.com/path?b=2&a=1\",\n",
    "    \"https://example.com/path/?a=1&b=2#fragment\",\n",
    "    \"http://example.com/path\",\n",
    "    \"http://example.com/path/\",\n",
    "    \"https://example.com/path/\",\n",
    "    \"https://example1.com/order/?checkout=true\",\n",
    "]\n",
    "\n",
    "urls_rdd = sc.parallelize(urls)\n",
    "unique_urls = dedup_urls_spark(urls_rdd)\n",
    "print(\"Unique URLs:\")\n",
    "for url in unique_urls:\n",
    "    print(url)\n"
   ]
  }
 ],
 "metadata": {
  "kernelspec": {
   "display_name": "Python 3",
   "language": "python",
   "name": "python3"
  },
  "language_info": {
   "codemirror_mode": {
    "name": "ipython",
    "version": 3
   },
   "file_extension": ".py",
   "mimetype": "text/x-python",
   "name": "python",
   "nbconvert_exporter": "python",
   "pygments_lexer": "ipython3",
   "version": "3.11.4"
  }
 },
 "nbformat": 4,
 "nbformat_minor": 2
}
